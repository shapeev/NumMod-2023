{
 "cells": [
  {
   "cell_type": "markdown",
   "metadata": {},
   "source": [
    "# Numerical Modeling  \n",
    "\n",
    "## Skoltech, Term 3, 2023"
   ]
  },
  {
   "cell_type": "markdown",
   "metadata": {},
   "source": [
    "**Course instructor:**\n",
    "Alexander Shapeev\n",
    "\n",
    "**TA:**\n",
    "* Edgar Makarov, PhD student"
   ]
  },
  {
   "cell_type": "markdown",
   "metadata": {},
   "source": [
    "[Course syllabus](syllabus.ipynb)\n",
    "\n",
    "Python [Crash Course](https://github.com/oseledets/nla2015/blob/master/lectures/Python_crash_course.ipynb) (as of 2015)\n",
    "\n",
    "\n",
    "| Week | &nbsp; | Monday | Tuesday | Thursday |  |\n",
    "|---|---|---|---|---|---|\n",
    "|1 | (Jan 30 - Feb 3)  | [Lecture 1](lecture-1.ipynb) | [Lecture 2](lecture-2.ipynb) | [Tutorial 1](tutorial-1.ipynb) | &nbsp; | \n",
    "|2 | (Feb 6-10) | [Lecture 3](lecture-3.ipynb) | [Lecture 4](lecture-4.ipynb) | [Problem Set 1](PS1.ipynb) | &nbsp; | \n",
    "|3 | (Feb 13-17) | &nbsp; | [Lecture 5](lecture-5.ipynb) | [Lecture 6](lecture-6.ipynb) | &nbsp; | \n",
    "|4 | (Feb 20-24)| [Midterm <br> study guide](MT_study_guide.ipynb) | &nbsp; | &nbsp; | &nbsp; |  \n",
    "|5 | (Feb 27- Mar 3)| [Problem Set 2](PS2.ipynb) | &nbsp; | &nbsp; | &nbsp; | \n",
    "|6 | (Mar 6-10)| &nbsp; | &nbsp; | &nbsp; | &nbsp; | \n",
    "|7 | (Mar 13-17)| &nbsp; | &nbsp; | &nbsp; | &nbsp; | \n",
    "|8 | (Mar 20-24)| App Period | App Period | App Period | &nbsp; | \n"
   ]
  },
  {
   "cell_type": "code",
   "execution_count": null,
   "metadata": {},
   "outputs": [],
   "source": []
  }
 ],
 "metadata": {
  "kernelspec": {
   "display_name": "Python 3 (ipykernel)",
   "language": "python",
   "name": "python3"
  },
  "language_info": {
   "codemirror_mode": {
    "name": "ipython",
    "version": 3
   },
   "file_extension": ".py",
   "mimetype": "text/x-python",
   "name": "python",
   "nbconvert_exporter": "python",
   "pygments_lexer": "ipython3",
   "version": "3.9.13"
  }
 },
 "nbformat": 4,
 "nbformat_minor": 1
}
